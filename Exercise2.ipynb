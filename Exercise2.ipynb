{
 "cells": [
  {
   "cell_type": "code",
   "execution_count": 8,
   "id": "682e149e",
   "metadata": {},
   "outputs": [
    {
     "name": "stdout",
     "output_type": "stream",
     "text": [
      "Give a number : 5\n",
      "120\n"
     ]
    }
   ],
   "source": [
    "\"\"\"\n",
    "Write a program that can compute the factorial of a given number. (the factorial of n is the product \n",
    "of all positive integers less than or equal to n). \n",
    "for example factorial(5)= 5 x 4 x 3 x 2 x 1 the result is 120.  (i.e. factorial (0)=1)\n",
    "\"\"\"\n",
    "\n",
    "value = int(input(\"Give a number : \"))\n",
    "factoriel = 1\n",
    "\n",
    "\n",
    "for i in range(1, value+1):\n",
    "        factoriel = factoriel * i\n",
    "print(factoriel)        \n",
    "        \n"
   ]
  },
  {
   "cell_type": "code",
   "execution_count": null,
   "id": "8499f75e",
   "metadata": {},
   "outputs": [],
   "source": []
  },
  {
   "cell_type": "code",
   "execution_count": null,
   "id": "c85a2111",
   "metadata": {},
   "outputs": [],
   "source": []
  },
  {
   "cell_type": "code",
   "execution_count": null,
   "id": "b24bde6a",
   "metadata": {},
   "outputs": [],
   "source": []
  },
  {
   "cell_type": "code",
   "execution_count": null,
   "id": "150e3651",
   "metadata": {},
   "outputs": [],
   "source": []
  }
 ],
 "metadata": {
  "kernelspec": {
   "display_name": "Python 3",
   "language": "python",
   "name": "python3"
  },
  "language_info": {
   "codemirror_mode": {
    "name": "ipython",
    "version": 3
   },
   "file_extension": ".py",
   "mimetype": "text/x-python",
   "name": "python",
   "nbconvert_exporter": "python",
   "pygments_lexer": "ipython3",
   "version": "3.8.8"
  }
 },
 "nbformat": 4,
 "nbformat_minor": 5
}
