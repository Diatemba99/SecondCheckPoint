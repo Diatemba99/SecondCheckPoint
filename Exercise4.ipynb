{
 "cells": [
  {
   "cell_type": "code",
   "execution_count": 37,
   "id": "07b12f2a",
   "metadata": {},
   "outputs": [
    {
     "name": "stdout",
     "output_type": "stream",
     "text": [
      "Give a word : lifetime\n",
      "Give the index of the word to remove : 4\n",
      "***** word before delection *****\n",
      "lifetime\n",
      "***** word after delection *****\n",
      "l i f e i m e\n"
     ]
    }
   ],
   "source": [
    "\"\"\"\n",
    "Given a non-empty string and an int n, return a new string where the \n",
    "char at index n has been removed. The value of n will be a valid index \n",
    "of a char in the original string (i.e. n will be in the range 0..len(str)-1 inclusive). \n",
    "missing_char('kitten', 1) → 'ktten'    for example here we remove \"i\" which is located in the index 1\n",
    "missing_char('kitten', 0) → 'itten'   here we remove \"k\" which is in the index 0\n",
    "missing_char('kitten', 4) → 'kittn'   here we remove \"e\" which is in the index 4\n",
    "\"\"\"\n",
    "\n",
    "word = input(\"Give a word : \")\n",
    "index = int(input(\"Give the index of the word to remove : \"))\n",
    "\n",
    "#conversion StringToList\n",
    "wordRemoved = list(word)\n",
    "\n",
    "print(\"*\"*5,\"word before delection\",\"*\"*5)\n",
    "print(word)\n",
    "\n",
    "#Loops for going on indexed value of the list\n",
    "for i in range(0,len(wordRemoved)):\n",
    "    if i == index:\n",
    "        #Delete indexed value\n",
    "        del wordRemoved[i]\n",
    "\n",
    "#Conversion ListToString\n",
    "lastWord = ' '.join(map(str, wordRemoved))        \n",
    "\n",
    "#Output after delection of selected index\n",
    "print(\"*\"*5,\"word after delection\",\"*\"*5)\n",
    "print(lastWord)\n"
   ]
  },
  {
   "cell_type": "code",
   "execution_count": null,
   "id": "2254ff63",
   "metadata": {},
   "outputs": [],
   "source": []
  },
  {
   "cell_type": "code",
   "execution_count": null,
   "id": "4a7485d8",
   "metadata": {},
   "outputs": [],
   "source": []
  }
 ],
 "metadata": {
  "kernelspec": {
   "display_name": "Python 3",
   "language": "python",
   "name": "python3"
  },
  "language_info": {
   "codemirror_mode": {
    "name": "ipython",
    "version": 3
   },
   "file_extension": ".py",
   "mimetype": "text/x-python",
   "name": "python",
   "nbconvert_exporter": "python",
   "pygments_lexer": "ipython3",
   "version": "3.8.8"
  }
 },
 "nbformat": 4,
 "nbformat_minor": 5
}
