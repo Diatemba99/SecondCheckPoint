{
 "cells": [
  {
   "cell_type": "code",
   "execution_count": 4,
   "id": "a17d55bf",
   "metadata": {},
   "outputs": [
    {
     "name": "stdout",
     "output_type": "stream",
     "text": [
      "[[ 1. -1.]\n",
      " [-1.  1.]]\n"
     ]
    }
   ],
   "source": [
    "\"\"\"\n",
    "Write a NumPy program to compute the covariance matrix of two given arrays. \n",
    "Original array1: [0 1 2] \n",
    "Original array2: [2 1 0] \n",
    "Covariance matrix of the said arrays: [[ 1. -1.] [-1. 1.]]\n",
    "\"\"\"\n",
    "\n",
    "\n",
    "\n",
    "import numpy as np\n",
    "\n",
    "#Decla\n",
    "array1 = np.array([0,1,2]);\n",
    "array2 = np.array([3,2,1]);\n",
    "\n",
    "covariance = np.cov(array1,array2);\n",
    "print(covariance);"
   ]
  },
  {
   "cell_type": "code",
   "execution_count": null,
   "id": "c3b54641",
   "metadata": {},
   "outputs": [],
   "source": []
  }
 ],
 "metadata": {
  "kernelspec": {
   "display_name": "Python 3",
   "language": "python",
   "name": "python3"
  },
  "language_info": {
   "codemirror_mode": {
    "name": "ipython",
    "version": 3
   },
   "file_extension": ".py",
   "mimetype": "text/x-python",
   "name": "python",
   "nbconvert_exporter": "python",
   "pygments_lexer": "ipython3",
   "version": "3.8.8"
  }
 },
 "nbformat": 4,
 "nbformat_minor": 5
}
