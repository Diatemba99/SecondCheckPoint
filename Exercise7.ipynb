{
 "cells": [
  {
   "cell_type": "code",
   "execution_count": 30,
   "id": "4b2d55e3",
   "metadata": {},
   "outputs": [
    {
     "name": "stdout",
     "output_type": "stream",
     "text": [
      "Ecrivez le nombre de valeurs à saisir10\n",
      "Saisir la valeur : 10\n",
      "Saisir la valeur : 20\n",
      "Saisir la valeur : 30\n",
      "Saisir la valeur : 40\n",
      "Saisir la valeur : 50\n",
      "Saisir la valeur : 60\n",
      "Saisir la valeur : 70\n",
      "Saisir la valeur : 80\n",
      "Saisir la valeur : 90\n",
      "Saisir la valeur : 100\n",
      "les valeurs saisies sont: [10, 20, 30, 40, 50, 60, 70, 80, 90, 100]\n",
      "les racines carrées  sont: [6, 8, 10, 12, 13, 14, 15, 16, 17, 18]\n"
     ]
    }
   ],
   "source": [
    "\"\"\"\n",
    "Question: Write a program that calculates and prints the value according to the given formula: \n",
    "Q = Square root of [(2 * C * D)/H] \n",
    "The following are the fixed values of C and H: C is 50. H is 30. \n",
    "D is the variable whose values should be input into your program in a comma-separated sequence. \n",
    "(that means D contains more than value)\n",
    "Example Let's assume the following comma-separated input sequence is given to the program:\n",
    "100,150,180 The output of the program should be: 18,22,24 \n",
    "To further explain this, we will obtain a result for each value of D:  \n",
    "Q1= Square root of [(2 * C * 100)/H] =18, Q2= Square root of [(2 * C * 150)/H] = 22 \n",
    "and Q3 = Square root of [(2 * C * 180)/H]  = 24\n",
    "Hints: If the output received is in decimal form, it should be rounded off to its nearest value \n",
    "(for example, if the output received is 26.0, it should be printed as 26) \n",
    "In case of input data being supplied to the question, it should be assumed to be a console input. \n",
    "\"\"\"\n",
    "\n",
    "\n",
    "from math import *\n",
    "\n",
    "c = 50\n",
    "h = 30\n",
    "\n",
    "#this table is saving inputs values\n",
    "values=[]\n",
    "#this table is saving squared values\n",
    "values_of_rc=[]\n",
    "\n",
    "#Square root of [(2 * C * 100)/H]\n",
    "\n",
    "number_values = int(input(\"Ecrivez le nombre de valeurs à saisir\"))\n",
    "\n",
    "for i in range(1,number_values+1):\n",
    "    i = int(input(\"Saisir la valeur : \"))\n",
    "    \n",
    "    val2 =round(sqrt((2*c*i)/h)) \n",
    "    values.append(i)\n",
    "    values_of_rc.append(val2)\n",
    "    \n",
    "    \n",
    "\n",
    "print(\"les valeurs saisies sont:\",values)\n",
    "print(\"les racines carrées  sont:\",values_of_rc)\n",
    "\n"
   ]
  },
  {
   "cell_type": "code",
   "execution_count": 7,
   "id": "9a13d682",
   "metadata": {},
   "outputs": [
    {
     "name": "stdout",
     "output_type": "stream",
     "text": [
      "14,50,60,74\n",
      "7,13,14,16\n"
     ]
    }
   ],
   "source": []
  },
  {
   "cell_type": "code",
   "execution_count": null,
   "id": "93f5702e",
   "metadata": {},
   "outputs": [],
   "source": []
  }
 ],
 "metadata": {
  "kernelspec": {
   "display_name": "Python 3",
   "language": "python",
   "name": "python3"
  },
  "language_info": {
   "codemirror_mode": {
    "name": "ipython",
    "version": 3
   },
   "file_extension": ".py",
   "mimetype": "text/x-python",
   "name": "python",
   "nbconvert_exporter": "python",
   "pygments_lexer": "ipython3",
   "version": "3.8.8"
  }
 },
 "nbformat": 4,
 "nbformat_minor": 5
}
