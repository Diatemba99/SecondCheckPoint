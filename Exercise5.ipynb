{
 "cells": [
  {
   "cell_type": "code",
   "execution_count": 10,
   "id": "d6ab2978",
   "metadata": {},
   "outputs": [
    {
     "name": "stdout",
     "output_type": "stream",
     "text": [
      "<class 'numpy.ndarray'>\n",
      "[[0, 1], [2, 3], [4, 5]]\n",
      "<class 'list'>\n"
     ]
    }
   ],
   "source": [
    "\"\"\"\n",
    "Write a NumPy program to convert a NumPy array into a Python list structure.\n",
    "Expected Output: \n",
    "Original array elements: [[0 1] [2 3] [4 5]] \n",
    "Array to list: [[0, 1], [2, 3], [4, 5]] \n",
    "Hint: we can use the to_list() function to ensure the conversion.\n",
    "\"\"\"\n",
    "\n",
    "import numpy as np\n",
    "\n",
    "#Initialisation and creation of numpy array\n",
    "NumpyArray = np.array([[0,1],[2 ,3],[4 ,5]]);\n",
    "print(type(NumpyArray))\n",
    "\n",
    "#Conversion into List\n",
    "print(NumpyArray.tolist());\n",
    "\n",
    "#Declaration and Initialisation of variable for showing the type in the end\n",
    "NumpyToList = NumpyArray.tolist()\n",
    "print(type(NumpyToList))"
   ]
  },
  {
   "cell_type": "code",
   "execution_count": null,
   "id": "fb12828e",
   "metadata": {},
   "outputs": [],
   "source": []
  }
 ],
 "metadata": {
  "kernelspec": {
   "display_name": "Python 3",
   "language": "python",
   "name": "python3"
  },
  "language_info": {
   "codemirror_mode": {
    "name": "ipython",
    "version": 3
   },
   "file_extension": ".py",
   "mimetype": "text/x-python",
   "name": "python",
   "nbconvert_exporter": "python",
   "pygments_lexer": "ipython3",
   "version": "3.8.8"
  }
 },
 "nbformat": 4,
 "nbformat_minor": 5
}
