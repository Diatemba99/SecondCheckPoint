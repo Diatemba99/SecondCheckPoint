{
 "cells": [
  {
   "cell_type": "code",
   "execution_count": 4,
   "id": "74392376",
   "metadata": {},
   "outputs": [
    {
     "name": "stdout",
     "output_type": "stream",
     "text": [
      "Give a number : 9\n",
      "{1: 1, 2: 4, 3: 9, 4: 16, 5: 25, 6: 36, 7: 49, 8: 64, 9: 81}\n"
     ]
    }
   ],
   "source": [
    "\"\"\"\n",
    "With a given integer number n, write a program to generate a dictionary that contains (i, i*i) \n",
    "such that is an integral number between 1 and n (both included). and then the program should \n",
    "print the dictionary. Suppose the following input is supplied to the program: 8 Then, the output \n",
    "should be: {1: 1, 2: 4, 3: 9, 4: 16, 5: 25, 6: 36, 7: 49, 8: 64}  \n",
    "\"\"\"\n",
    "\n",
    "#Declaration and conversion to int type the value entered by the user\n",
    "value = int(input(\"Give a number : \"))\n",
    "\n",
    "#Declaration of dictionary for saving values\n",
    "dictOfValues = {}\n",
    "\n",
    "for i in range(1,value+1):\n",
    "    #adding values on dict\n",
    "    dictOfValues[i]=i*i\n",
    "\n",
    "print(dictOfValues)\n",
    "\n"
   ]
  },
  {
   "cell_type": "code",
   "execution_count": null,
   "id": "5d8d9a92",
   "metadata": {},
   "outputs": [],
   "source": []
  }
 ],
 "metadata": {
  "kernelspec": {
   "display_name": "Python 3",
   "language": "python",
   "name": "python3"
  },
  "language_info": {
   "codemirror_mode": {
    "name": "ipython",
    "version": 3
   },
   "file_extension": ".py",
   "mimetype": "text/x-python",
   "name": "python",
   "nbconvert_exporter": "python",
   "pygments_lexer": "ipython3",
   "version": "3.8.8"
  }
 },
 "nbformat": 4,
 "nbformat_minor": 5
}
